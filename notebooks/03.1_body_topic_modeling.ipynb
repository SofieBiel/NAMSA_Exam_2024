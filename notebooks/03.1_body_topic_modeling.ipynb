{
 "cells": [
  {
   "cell_type": "markdown",
   "metadata": {},
   "source": [
    "# Topic modeling (body)"
   ]
  },
  {
   "cell_type": "code",
   "execution_count": 32,
   "metadata": {},
   "outputs": [
    {
     "name": "stdout",
     "output_type": "stream",
     "text": [
      "                                                    body   timestamp  \\\n",
      "0      the ceo of nasdaq pushed to halt trading to gi...  2021-01-28   \n",
      "1      hedgefund whales are spreading disinfo saying ...  2021-01-28   \n",
      "2      life isn fair my mother always told me that wh...  2021-01-28   \n",
      "3      i believe right now is one of those rare oppor...  2021-01-28   \n",
      "4      you guys are champs gme who would have thought...  2021-01-28   \n",
      "...                                                  ...         ...   \n",
      "24732  it all contingent on them mastering fsd but if...  2021-08-02   \n",
      "24733  tldr three bitter scientists partnered up with...  2021-08-02   \n",
      "24734  your daily hype thread please keep the shitpos...  2021-08-02   \n",
      "24735  your daily trading discussion thread please ke...  2021-08-02   \n",
      "24736  this is an old yacht club thread click visualm...  2021-08-02   \n",
      "\n",
      "                                 tickers  \n",
      "0                                ['GME']  \n",
      "1                     ['GME', 'BE', 'T']  \n",
      "2              ['ARE', 'GME', 'A', 'BB']  \n",
      "3                         ['GME', 'AMC']  \n",
      "4      ['AG', 'OUT', 'GME', 'BE', 'JPM']  \n",
      "...                                  ...  \n",
      "24732                                 []  \n",
      "24733                   ['A', 'F', 'DD']  \n",
      "24734                             ['DD']  \n",
      "24735                             ['DD']  \n",
      "24736                                 []  \n",
      "\n",
      "[24737 rows x 3 columns]\n"
     ]
    }
   ],
   "source": [
    "# Importing libraries\n",
    "import pandas as pd\n",
    "\n",
    "# Load the cleaned data\n",
    "body_data = pd.read_csv('../data/cleaned_wsb_body_withouttime.csv')\n",
    "\n",
    "# Display data\n",
    "print(body_data)"
   ]
  },
  {
   "cell_type": "markdown",
   "metadata": {},
   "source": [
    "**Taking a look at the 20 most mentioned tickers**"
   ]
  },
  {
   "cell_type": "code",
   "execution_count": 33,
   "metadata": {},
   "outputs": [
    {
     "name": "stdout",
     "output_type": "stream",
     "text": [
      "                         ticker  count\n",
      "0                            []  10279\n",
      "1                       ['GME']   2451\n",
      "2                        ['DD']    598\n",
      "3                ['GME', 'AMC']    502\n",
      "4                       ['AMC']    395\n",
      "5                         ['A']    394\n",
      "6                        ['RH']    270\n",
      "7                  ['GME', 'A']    170\n",
      "8                 ['GME', 'DD']    135\n",
      "9   ['GME', 'NOK', 'BB', 'AMC']    120\n",
      "10                       ['BB']    118\n",
      "11                      ['NOK']    100\n",
      "12         ['GME', 'BB', 'AMC']     92\n",
      "13                        ['S']     87\n",
      "14                ['GME', 'RH']     80\n",
      "15        ['GME', 'NOK', 'AMC']     76\n",
      "16                       ['TD']     73\n",
      "17                        ['E']     72\n",
      "18                ['RH', 'GME']     70\n",
      "19                   ['U', 'S']     67\n",
      "20                      ['YOU']     64\n"
     ]
    }
   ],
   "source": [
    "# Flatten the tickers into a single list and count occurrences\n",
    "ticker_counts = (\n",
    "    body_data.explode('tickers')  # Explode the tickers list into individual rows\n",
    "    .groupby('tickers')\n",
    "    .size()\n",
    "    .sort_values(ascending=False)  # Sort by count in descending order\n",
    "    .head(21)  # Get the top 20 tickers\n",
    ")\n",
    "\n",
    "# Convert to DataFrame for better readability\n",
    "top_tickers = ticker_counts.reset_index(name='count').rename(columns={'tickers': 'ticker'})\n",
    "\n",
    "# Print the top 20 tickers\n",
    "print(top_tickers)"
   ]
  },
  {
   "cell_type": "markdown",
   "metadata": {},
   "source": [
    "# BERTopics with lemmatization (using spaCy)"
   ]
  },
  {
   "cell_type": "code",
   "execution_count": 34,
   "metadata": {},
   "outputs": [
    {
     "name": "stderr",
     "output_type": "stream",
     "text": [
      "2024-12-18 00:28:04,663 - BERTopic - Embedding - Transforming documents to embeddings.\n",
      "Batches: 100%|██████████| 774/774 [03:33<00:00,  3.62it/s]\n",
      "2024-12-18 00:31:40,594 - BERTopic - Embedding - Completed ✓\n",
      "2024-12-18 00:31:40,594 - BERTopic - Dimensionality - Fitting the dimensionality reduction algorithm\n",
      "2024-12-18 00:31:45,777 - BERTopic - Dimensionality - Completed ✓\n",
      "2024-12-18 00:31:45,777 - BERTopic - Cluster - Start clustering the reduced embeddings\n",
      "2024-12-18 00:31:48,838 - BERTopic - Cluster - Completed ✓\n",
      "2024-12-18 00:31:48,838 - BERTopic - Representation - Extracting topics from clusters using representation models.\n",
      "2024-12-18 00:31:50,509 - BERTopic - Representation - Completed ✓\n"
     ]
    }
   ],
   "source": [
    "# https://maartengr.github.io/BERTopic/getting_started/quickstart/quickstart.html#installation\n",
    "from bertopic import BERTopic\n",
    "from sklearn.feature_extraction.text import CountVectorizer\n",
    "import spacy\n",
    "\n",
    "# Load spaCy model\n",
    "nlp = spacy.load(\"en_core_web_sm\")\n",
    "\n",
    "# Using spaCy for both lemmatization and stopword removal\n",
    "def preprocess_with_spacy(docs):\n",
    "    processed_docs = []\n",
    "    # Process documents in batches for efficiency\n",
    "    for doc in nlp.pipe(docs, batch_size=100, n_process=1):\n",
    "        # Lemmatize and remove stopwords\n",
    "        tokens = [token.lemma_ for token in doc \n",
    "                  if not token.is_stop and not token.is_punct and token.lemma_.isalpha()]\n",
    "        processed_docs.append(' '.join(tokens))\n",
    "    return processed_docs\n",
    "\n",
    "# Extract raw documents (list of strings)\n",
    "documents = body_data['body'].astype(str).tolist()\n",
    "\n",
    "# Preprocess documents using spaCy function for lemmatization and stopword removal\n",
    "processed_documents = preprocess_with_spacy(documents)\n",
    "\n",
    "# Create a vectorizer model\n",
    "vectorizer_model = CountVectorizer()\n",
    "\n",
    "# Initialize BERTopic with the custom vectorizer\n",
    "topic_model = BERTopic(vectorizer_model=vectorizer_model, verbose=True)\n",
    "\n",
    "# Fit and transform the preprocessed documents to embeddings\n",
    "topics, probs = topic_model.fit_transform(processed_documents)\n",
    "\n",
    "# Get topic info\n",
    "topic_info = topic_model.get_topic_info()\n"
   ]
  },
  {
   "cell_type": "code",
   "execution_count": 35,
   "metadata": {},
   "outputs": [
    {
     "name": "stdout",
     "output_type": "stream",
     "text": [
      "   Topic  Count                                               Name  \\\n",
      "0     -1  13524                           -1_short_stock_gme_share   \n",
      "1      0    362  0_holymolyholymolyholymolyholymolyholymolyholy...   \n",
      "2      1    342                                 1_sub_mod_post_bot   \n",
      "3      2    259                             2_nan_cooked_varta_nas   \n",
      "4      3    255                                 3_amc_nok_buy_hold   \n",
      "\n",
      "                                      Representation  \\\n",
      "0  [short, stock, gme, share, buy, like, go, sell...   \n",
      "1  [holymolyholymolyholymolyholymolyholymolyholym...   \n",
      "2  [sub, mod, post, bot, ban, wsb, comment, subre...   \n",
      "3  [nan, cooked, varta, nas, goose, complicated, ...   \n",
      "4  [amc, nok, buy, hold, bb, let, amcx, morning, ...   \n",
      "\n",
      "                                 Representative_Docs  \n",
      "0  [gamestonk gamestop gme thought reddit martins...  \n",
      "1  [angry, hm, holymolyholymolyholymolyholymolyho...  \n",
      "2  [ve lot week moderate sub keep alive past time...  \n",
      "3                                    [nan, nan, nan]  \n",
      "4            [amc, amc amc amc amc amc amc amc, amc]  \n",
      "\n",
      "Topic -1: [('short', 0.003660531753658793), ('stock', 0.0036397813440302833), ('gme', 0.0035861608166113715), ('share', 0.00351562097842836), ('buy', 0.0034246787684883433), ('like', 0.003327894570392217), ('go', 0.003314878445989558), ('sell', 0.0032556715566042756), ('know', 0.0032345124039393023), ('price', 0.003222672638758299)]\n",
      "Topic 0: [('holymolyholymolyholymolyholymolyholymolyholymolyholymolyholymolyholymolyholymolyholymolyholymolyholymolyholymolyholymolyholymolyholymolyholymolyholymolyholymolyholymolyholymolyholymolyholymolyholymolyholymolyholymolyholymolyholymolyholymolyholymolyholymolyholymolyholymolyholymolyholymolyholymolyholymolyholymolyholymolyholymolyholymolyholymolyholymolyholymolyholymolyholymolyholymolyholymolyholymolyholymolyholymolyholymolyholymolyholymolyholymolyholymolyholymolyholymolyholymoly', 1.143982930277151), ('wat', 0.8841454724556386), ('hm', 0.8841454724556386), ('angry', 0.5567410230954648), ('hey', 0.3595575704705575), ('yeah', 0.35810050076849004), ('absolutely', 0.3146121867128066), ('show', 0.21274178730908228), ('', 1e-05), ('', 1e-05)]\n",
      "Topic 1: [('sub', 0.03298272634429331), ('mod', 0.029639829769408984), ('post', 0.017166181169291042), ('bot', 0.01669318148476141), ('ban', 0.011860824307710252), ('wsb', 0.009929442795931484), ('comment', 0.009758257956006915), ('subreddit', 0.00973018494508481), ('fuck', 0.008682194953171147), ('fucking', 0.00822011508154421)]\n",
      "Topic 2: [('nan', 3.5259831905250585), ('cooked', 0.034666149402337906), ('varta', 0.03050554233021249), ('nas', 0.02857139972762676), ('goose', 0.02416993858912634), ('complicated', 0.016367222320755728), ('sure', 0.005684799652937986), ('right', 0.0036002413429636997), ('', 1e-05), ('', 1e-05)]\n",
      "Topic 3: [('amc', 0.15084096622967402), ('nok', 0.02884733465260794), ('buy', 0.020936615884027558), ('hold', 0.018279632957312046), ('bb', 0.01609200913232887), ('let', 0.011058679589722406), ('amcx', 0.0110485525386398), ('morning', 0.010535329093933907), ('boy', 0.010126515021429482), ('guy', 0.009696714069312499)]\n"
     ]
    }
   ],
   "source": [
    "# Display topic info\n",
    "print(topic_info.head())\n",
    "\n",
    "# Topics to print\n",
    "topics_to_print = [-1, 0, 1, 2, 3]\n",
    "\n",
    "print(\"\\n\" + \"\\n\".join([f\"Topic {topic}: {topic_model.get_topic(topic)}\" for topic in topics_to_print]))"
   ]
  },
  {
   "cell_type": "markdown",
   "metadata": {},
   "source": [
    "**Data for Performance Evaluation**"
   ]
  },
  {
   "cell_type": "code",
   "execution_count": 36,
   "metadata": {},
   "outputs": [],
   "source": [
    "# Ensure lengths match\n",
    "if len(topics) != len(body_data):\n",
    "    raise ValueError(f\"Length mismatch: topics({len(topics)}) and body_data({len(body_data)})\")\n",
    "\n",
    "# Add the topic column\n",
    "body_data['topic'] = topics\n",
    "\n",
    "# Retrieve topic names with a fallback for missing topics\n",
    "topic_names = {}\n",
    "for topic in set(topics):\n",
    "    words = topic_model.get_topic(topic)\n",
    "    if words:  # If topic has words\n",
    "        topic_names[topic] = f\"Topic {topic}: {', '.join([word for word, _ in words])}\"\n",
    "    else:\n",
    "        topic_names[topic] = f\"Topic {topic}: No Keywords\"\n",
    "\n",
    "# Map topic numbers to their names\n",
    "body_data['topic_name'] = body_data['topic'].map(topic_names)\n",
    "\n",
    "# Save the updated DataFrame\n",
    "body_data[['body', 'topic', 'topic_name']].to_csv('results/labeled_body_topics_with_lemma.csv', index=False)"
   ]
  },
  {
   "cell_type": "markdown",
   "metadata": {},
   "source": [
    "# BERTopic without lemmatization"
   ]
  },
  {
   "cell_type": "code",
   "execution_count": 37,
   "metadata": {},
   "outputs": [
    {
     "name": "stderr",
     "output_type": "stream",
     "text": [
      "2024-12-18 00:31:52,081 - BERTopic - Embedding - Transforming documents to embeddings.\n",
      "Batches: 100%|██████████| 774/774 [05:03<00:00,  2.55it/s]\n",
      "2024-12-18 00:36:57,993 - BERTopic - Embedding - Completed ✓\n",
      "2024-12-18 00:36:57,994 - BERTopic - Dimensionality - Fitting the dimensionality reduction algorithm\n",
      "2024-12-18 00:37:03,319 - BERTopic - Dimensionality - Completed ✓\n",
      "2024-12-18 00:37:03,319 - BERTopic - Cluster - Start clustering the reduced embeddings\n",
      "2024-12-18 00:37:05,817 - BERTopic - Cluster - Completed ✓\n",
      "2024-12-18 00:37:05,819 - BERTopic - Representation - Extracting topics from clusters using representation models.\n",
      "2024-12-18 00:37:08,952 - BERTopic - Representation - Completed ✓\n"
     ]
    }
   ],
   "source": [
    "# https://maartengr.github.io/BERTopic/getting_started/tips_and_tricks/tips_and_tricks.html#removing-stop-words\n",
    "from bertopic import BERTopic\n",
    "from sklearn.feature_extraction.text import CountVectorizer\n",
    "\n",
    "# Extract documents (list of strings)\n",
    "documents = body_data['body'].astype(str).tolist()\n",
    "\n",
    "# Create a vectorizer model that removes English stopwords\n",
    "vectorizer_model = CountVectorizer(stop_words='english')\n",
    "\n",
    "# Initialize BERTopic with the custom vectorizer\n",
    "topic_model = BERTopic(vectorizer_model=vectorizer_model, verbose=True)\n",
    "\n",
    "# Fit and transform the preprocessed documents to embeddings\n",
    "topics, probs = topic_model.fit_transform(documents)\n",
    "\n",
    "# Get topic info\n",
    "topic_info = topic_model.get_topic_info()"
   ]
  },
  {
   "cell_type": "code",
   "execution_count": 38,
   "metadata": {},
   "outputs": [
    {
     "name": "stdout",
     "output_type": "stream",
     "text": [
      "   Topic  Count                          Name  \\\n",
      "0     -1  11056        -1_gme_just_like_stock   \n",
      "1      0    722   0_short_shorts_shares_cover   \n",
      "2      1    413  1_option_options_gamma_delta   \n",
      "3      2    351     2_apes_ape_banana_bananas   \n",
      "4      3    341   3_gamestop_games_cohen_game   \n",
      "\n",
      "                                      Representation  \\\n",
      "0  [gme, just, like, stock, shares, don, money, p...   \n",
      "1  [short, shorts, shares, cover, squeeze, volume...   \n",
      "2  [option, options, gamma, delta, calls, strike,...   \n",
      "3  [apes, ape, banana, bananas, zjz, fellow, thou...   \n",
      "4  [gamestop, games, cohen, game, gaming, chewy, ...   \n",
      "\n",
      "                                 Representative_Docs  \n",
      "0  [not financial advice m long gme m also retard...  \n",
      "1  [long post ahead but encourage you to read the...  \n",
      "2  [since gme gamma squeeze 2 weeks ago every mon...  \n",
      "3  [in the process of researching gme was able to...  \n",
      "4  [evernote link for better formatting thesis wi...  \n",
      "\n",
      "Topic -1: [('gme', 0.003719737495693469), ('just', 0.0033094981273677046), ('like', 0.0032859247985431938), ('stock', 0.00316833534128229), ('shares', 0.003141893944196612), ('don', 0.0031191805171359313), ('money', 0.0031125788952903704), ('people', 0.0031052923628257147), ('know', 0.0030168461618881935), ('buy', 0.002988573374082321)]\n",
      "Topic 0: [('short', 0.017360846674179833), ('shorts', 0.013446251284974158), ('shares', 0.009146814041925869), ('cover', 0.008286366802524618), ('squeeze', 0.007652250744654667), ('volume', 0.007636406721597755), ('float', 0.007581944935008879), ('shorted', 0.007450431274291382), ('finra', 0.006673581444086861), ('positions', 0.0066713759268631125)]\n",
      "Topic 1: [('option', 0.017658789493249605), ('options', 0.017598828152705415), ('gamma', 0.014391199808954269), ('delta', 0.014342120120913182), ('calls', 0.01339004900517429), ('strike', 0.012255424193204528), ('itm', 0.011644910656943135), ('price', 0.009069076578976407), ('100', 0.008352093974099849), ('contract', 0.00805929882883681)]\n",
      "Topic 2: [('apes', 0.031326994117606866), ('ape', 0.018325541475758583), ('banana', 0.011804701755873366), ('bananas', 0.010193974748060443), ('zjz', 0.007722632100970125), ('fellow', 0.005971014493179744), ('thou', 0.00577192643559113), ('earth', 0.005627888908447005), ('begot', 0.005485342370850337), ('strong', 0.004912771977094187)]\n",
      "Topic 3: [('gamestop', 0.029120727044827613), ('games', 0.013096657409774374), ('cohen', 0.010834835729841813), ('game', 0.01056368547003347), ('gaming', 0.009155812050919842), ('chewy', 0.008917920306035535), ('ryan', 0.008711517170578336), ('stores', 0.007465329589681861), ('store', 0.0066385917699247595), ('digital', 0.006076837525210042)]\n"
     ]
    }
   ],
   "source": [
    "# Display topic info\n",
    "print(topic_info.head())\n",
    "\n",
    "# Topics to print\n",
    "topics_to_print = [-1, 0, 1, 2, 3]\n",
    "\n",
    "print(\"\\n\" + \"\\n\".join([f\"Topic {topic}: {topic_model.get_topic(topic)}\" for topic in topics_to_print]))"
   ]
  },
  {
   "cell_type": "markdown",
   "metadata": {},
   "source": [
    "**Data for Performance Evaluation**"
   ]
  },
  {
   "cell_type": "code",
   "execution_count": 39,
   "metadata": {},
   "outputs": [],
   "source": [
    "# Ensure lengths match\n",
    "if len(topics) != len(body_data):\n",
    "    raise ValueError(f\"Length mismatch: topics({len(topics)}) and body_data({len(body_data)})\")\n",
    "\n",
    "# Add the topic column\n",
    "body_data['topic'] = topics\n",
    "\n",
    "# Retrieve topic names with a fallback for missing topics\n",
    "topic_names = {}\n",
    "for topic in set(topics):\n",
    "    words = topic_model.get_topic(topic)\n",
    "    if words:  # If topic has words\n",
    "        topic_names[topic] = f\"Topic {topic}: {', '.join([word for word, _ in words])}\"\n",
    "    else:\n",
    "        topic_names[topic] = f\"Topic {topic}: No Keywords\"\n",
    "\n",
    "# Map topic numbers to their names\n",
    "body_data['topic_name'] = body_data['topic'].map(topic_names)\n",
    "\n",
    "# Save the updated DataFrame\n",
    "body_data[['body', 'topic', 'topic_name']].to_csv('results/labeled_body_topics_without_lemma.csv', index=False)"
   ]
  },
  {
   "cell_type": "markdown",
   "metadata": {},
   "source": [
    "# Tool to extract given topic input in percentage over time"
   ]
  },
  {
   "cell_type": "code",
   "execution_count": 40,
   "metadata": {},
   "outputs": [
    {
     "name": "stdout",
     "output_type": "stream",
     "text": [
      "         date  total_posts  topic_posts  percentage\n",
      "1  2021-01-29         9113       1478.0   16.218589\n",
      "8  2021-02-05         1667        342.0   20.515897\n",
      "9  2021-02-06         1505        230.0   15.282392\n",
      "6  2021-02-03          677        206.0   30.428360\n",
      "7  2021-02-04          861        181.0   21.022067\n",
      "2  2021-01-30          650        172.0   26.461538\n",
      "3  2021-01-31          426        128.0   30.046948\n",
      "4  2021-02-01          319         96.0   30.094044\n",
      "0  2021-01-28          693         95.0   13.708514\n",
      "5  2021-02-02          351         95.0   27.065527\n"
     ]
    },
    {
     "data": {
      "image/png": "[encoded data removed]",
      "text/plain": [
       "<Figure size 1200x600 with 1 Axes>"
      ]
     },
     "metadata": {},
     "output_type": "display_data"
    }
   ],
   "source": [
    "import pandas as pd\n",
    "import matplotlib.pyplot as plt\n",
    "\n",
    "# Ensure timestamp is datetime\n",
    "body_data['timestamp'] = pd.to_datetime(body_data['timestamp'])\n",
    "\n",
    "# Define topic\n",
    "topic = \"hold\"\n",
    "\n",
    "# Create a boolean column indicating if the topic is mentioned in a post\n",
    "body_data['mentions_topic'] = body_data['body'].str.contains(rf'\\b{topic}\\b', case=False, na=False)\n",
    "\n",
    "# Extract date\n",
    "body_data['date'] = body_data['timestamp'].dt.date\n",
    "\n",
    "# Count how many posts per day (total)\n",
    "daily_total = body_data.groupby('date').size().reset_index(name='total_posts')\n",
    "\n",
    "# Count how many posts mention the topic per day\n",
    "daily_topic = body_data[body_data['mentions_topic']].groupby('date').size().reset_index(name='topic_posts')\n",
    "\n",
    "# Merge the two DataFrames on 'date'\n",
    "merged = pd.merge(daily_total, daily_topic, on='date', how='left')\n",
    "\n",
    "# Fill NaN in topic_posts with 0 (days with no mentions)\n",
    "merged['topic_posts'] = merged['topic_posts'].fillna(0)\n",
    "\n",
    "# Compute percentage\n",
    "merged['percentage'] = (merged['topic_posts'] / merged['total_posts']) * 100\n",
    "\n",
    "# Sort by highest number of topic_posts\n",
    "merged = merged.sort_values(by='topic_posts', ascending=False)\n",
    "\n",
    "# Print the sorted table\n",
    "print(merged.head(10))\n",
    "\n",
    "# Plot the percentage over time as a bar chart\n",
    "plt.figure(figsize=(12,6))\n",
    "plt.bar(merged['date'], merged['percentage'], color='skyblue', edgecolor='black')\n",
    "plt.title(f'Percentage of Posts Mentioning \"{topic}\" Over Time')\n",
    "plt.xlabel('Date')\n",
    "plt.ylabel('Percentage of Posts Mentioning Topic (%)')\n",
    "plt.xticks(rotation=45)\n",
    "plt.tight_layout()\n",
    "plt.show()\n"
   ]
  }
 ],
 "metadata": {
  "kernelspec": {
   "display_name": "sentimentF24",
   "language": "python",
   "name": "python3"
  },
  "language_info": {
   "codemirror_mode": {
    "name": "ipython",
    "version": 3
   },
   "file_extension": ".py",
   "mimetype": "text/x-python",
   "name": "python",
   "nbconvert_exporter": "python",
   "pygments_lexer": "ipython3",
   "version": "3.11.10"
  }
 },
 "nbformat": 4,
 "nbformat_minor": 2
}
