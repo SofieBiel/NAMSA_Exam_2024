{
 "cells": [
  {
   "cell_type": "markdown",
   "metadata": {},
   "source": [
    "# Topic modeling (title)"
   ]
  },
  {
   "cell_type": "code",
   "execution_count": 16,
   "metadata": {},
   "outputs": [
    {
     "name": "stdout",
     "output_type": "stream",
     "text": [
      "                                                   title   timestamp  \\\n",
      "0        it not about the money it about sending message  2021-01-28   \n",
      "1      math professor scott steiner says the numbers ...  2021-01-28   \n",
      "2                                        exit the system  2021-01-28   \n",
      "3      new sec filing for gme can someone less retard...  2021-01-28   \n",
      "4      not to distract from gme just thought our amc ...  2021-01-28   \n",
      "...                                                  ...         ...   \n",
      "53181      what learned investigating sava fud spreaders  2021-08-02   \n",
      "53182  daily popular tickers thread for august 02 202...  2021-08-02   \n",
      "53183       hitler reacts to the market being irrational  2021-08-02   \n",
      "53184         daily discussion thread for august 02 2021  2021-08-02   \n",
      "53185  fraternal association of gambling gentlemen an...  2021-08-02   \n",
      "\n",
      "               tickers  \n",
      "0                   []  \n",
      "1                   []  \n",
      "2                   []  \n",
      "3       ['GME', 'FOR']  \n",
      "4       ['GME', 'AMC']  \n",
      "...                ...  \n",
      "53181               []  \n",
      "53182  ['GME', 'BABA']  \n",
      "53183               []  \n",
      "53184               []  \n",
      "53185               []  \n",
      "\n",
      "[53186 rows x 3 columns]\n"
     ]
    }
   ],
   "source": [
    "# Importing libraries\n",
    "import pandas as pd\n",
    "\n",
    "# Load the cleaned data\n",
    "title_data = pd.read_csv('../data/cleaned_wsb_title_withouttime.csv')\n",
    "\n",
    "# Display data\n",
    "print(title_data)"
   ]
  },
  {
   "cell_type": "markdown",
   "metadata": {},
   "source": [
    "**Taking a look at the 20 most mentioned tickers**"
   ]
  },
  {
   "cell_type": "code",
   "execution_count": 17,
   "metadata": {},
   "outputs": [
    {
     "name": "stdout",
     "output_type": "stream",
     "text": [
      "            ticker  count\n",
      "0               []  33918\n",
      "1          ['GME']   5726\n",
      "2          ['AMC']   1504\n",
      "3            ['A']    659\n",
      "4           ['DD']    615\n",
      "5           ['BB']    561\n",
      "6   ['GME', 'AMC']    462\n",
      "7          ['RKT']    447\n",
      "8           ['RH']    444\n",
      "9          ['NOK']    392\n",
      "10        ['UWMC']    265\n",
      "11  ['AMC', 'GME']    227\n",
      "12         ['YOU']    210\n",
      "13        ['SPCE']    185\n",
      "14           ['T']    118\n",
      "15    ['GME', 'A']    117\n",
      "16         ['ARE']    112\n",
      "17          ['TD']    109\n",
      "18          ['IT']    108\n",
      "19           ['S']    108\n",
      "20         ['FOR']     99\n"
     ]
    }
   ],
   "source": [
    "# Flatten the tickers into a single list and count occurrences\n",
    "ticker_counts = (\n",
    "    title_data.explode('tickers')  # Explode the tickers list into individual rows\n",
    "    .groupby('tickers')\n",
    "    .size()\n",
    "    .sort_values(ascending=False)  # Sort by count in descending order\n",
    "    .head(21)  # Get the top 20 tickers\n",
    ")\n",
    "\n",
    "# Convert to DataFrame for better readability\n",
    "top_tickers = ticker_counts.reset_index(name='count').rename(columns={'tickers': 'ticker'})\n",
    "\n",
    "# Print the top 20 tickers\n",
    "print(top_tickers)"
   ]
  },
  {
   "cell_type": "markdown",
   "metadata": {},
   "source": [
    "# BERTopics with lemmatization (using spaCy)"
   ]
  },
  {
   "cell_type": "code",
   "execution_count": 18,
   "metadata": {},
   "outputs": [
    {
     "name": "stderr",
     "output_type": "stream",
     "text": [
      "2024-12-18 00:14:30,157 - BERTopic - Embedding - Transforming documents to embeddings.\n",
      "Batches: 100%|██████████| 1663/1663 [02:45<00:00, 10.04it/s]\n",
      "2024-12-18 00:17:17,795 - BERTopic - Embedding - Completed ✓\n",
      "2024-12-18 00:17:17,795 - BERTopic - Dimensionality - Fitting the dimensionality reduction algorithm\n",
      "2024-12-18 00:17:38,054 - BERTopic - Dimensionality - Completed ✓\n",
      "2024-12-18 00:17:38,069 - BERTopic - Cluster - Start clustering the reduced embeddings\n",
      "2024-12-18 00:17:41,494 - BERTopic - Cluster - Completed ✓\n",
      "2024-12-18 00:17:41,495 - BERTopic - Representation - Extracting topics from clusters using representation models.\n",
      "2024-12-18 00:17:42,170 - BERTopic - Representation - Completed ✓\n"
     ]
    }
   ],
   "source": [
    "# https://maartengr.github.io/BERTopic/getting_started/quickstart/quickstart.html#installation\n",
    "from bertopic import BERTopic\n",
    "from sklearn.feature_extraction.text import CountVectorizer\n",
    "import spacy\n",
    "\n",
    "# Load spaCy model\n",
    "nlp = spacy.load(\"en_core_web_sm\")\n",
    "\n",
    "# Using spaCy for both lemmatization and stopword removal\n",
    "def preprocess_with_spacy(docs):\n",
    "    processed_docs = []\n",
    "    # Process documents in batches for efficiency\n",
    "    for doc in nlp.pipe(docs, batch_size=100, n_process=1):\n",
    "        # Lemmatize and remove stopwords\n",
    "        tokens = [token.lemma_ for token in doc \n",
    "                  if not token.is_stop and not token.is_punct and token.lemma_.isalpha()]\n",
    "        processed_docs.append(' '.join(tokens))\n",
    "    return processed_docs\n",
    "\n",
    "# Extract raw documents (list of strings)\n",
    "documents = title_data['title'].astype(str).tolist()\n",
    "\n",
    "# Preprocess documents using spaCy function for lemmatization and stopword removal\n",
    "processed_documents = preprocess_with_spacy(documents)\n",
    "\n",
    "# Create a vectorizer model\n",
    "vectorizer_model = CountVectorizer()\n",
    "\n",
    "# Initialize BERTopic with the custom vectorizer\n",
    "topic_model = BERTopic(vectorizer_model=vectorizer_model, verbose=True)\n",
    "\n",
    "# Fit and transform the preprocessed documents to embeddings\n",
    "topics, probs = topic_model.fit_transform(processed_documents)\n",
    "\n",
    "# Get topic info\n",
    "topic_info = topic_model.get_topic_info()\n"
   ]
  },
  {
   "cell_type": "code",
   "execution_count": 19,
   "metadata": {},
   "outputs": [
    {
     "name": "stdout",
     "output_type": "stream",
     "text": [
      "   Topic  Count                               Name  \\\n",
      "0     -1  15422           -1_money_lose_month_time   \n",
      "1      0    547  0_robinhood_cancel_restrict_block   \n",
      "2      1    473   1_robinhood_search_remove_buying   \n",
      "3      2    466             2_porn_loss_enjoy_jerk   \n",
      "4      3    417     3_hedge_fund_hedgefund_manager   \n",
      "\n",
      "                                      Representation  \\\n",
      "0  [money, lose, month, time, day, earning, milli...   \n",
      "1  [robinhood, cancel, restrict, block, manipulat...   \n",
      "2  [robinhood, search, remove, buying, block, rob...   \n",
      "3  [porn, loss, enjoy, jerk, nsfw, fap, post, gue...   \n",
      "4  [hedge, fund, hedgefund, manager, funder, turm...   \n",
      "\n",
      "                                 Representative_Docs  \n",
      "0  [want thank set pull money thing account thank...  \n",
      "1  [cancel robinhood, robinhood cancel order shar...  \n",
      "2  [robinhood gme amc, search robinhood not allow...  \n",
      "3                  [loss porn, loss porn, loss porn]  \n",
      "4               [hedge fund, hedge fund, hedge fund]  \n",
      "\n",
      "Topic -1: [('money', 0.0013441674637310707), ('lose', 0.0012320054591491178), ('month', 0.001218795213205849), ('time', 0.0011670320814702033), ('day', 0.0011579243548262683), ('earning', 0.0011541806160940084), ('million', 0.001133084853300428), ('go', 0.001128001093630496), ('gme', 0.0011266021459542066), ('share', 0.0011191598801693335)]\n",
      "Topic 0: [('robinhood', 0.012115237531351752), ('cancel', 0.011344841614713625), ('restrict', 0.008989878130615766), ('block', 0.007721914951240064), ('manipulation', 0.00654814497173495), ('limit', 0.005271480312213505), ('manipulate', 0.005236044003051496), ('order', 0.005006592531377834), ('certain', 0.00494444782637123), ('market', 0.0046156359918349335)]\n",
      "Topic 1: [('robinhood', 0.010117945443129961), ('search', 0.009107318541325068), ('remove', 0.0071870829848201786), ('buying', 0.005879715973562683), ('block', 0.005305653381095334), ('robin', 0.004985931496732844), ('allow', 0.004811070205494074), ('support', 0.004695943342565396), ('restrict', 0.004656806677077973), ('etc', 0.004546934437740353)]\n",
      "Topic 2: [('porn', 0.057635813445259025), ('loss', 0.033952692275499685), ('enjoy', 0.0065774587819708375), ('jerk', 0.004702437815642478), ('nsfw', 0.00442895553027668), ('fap', 0.0038760209104732254), ('post', 0.003687533178960588), ('guess', 0.0034064688950168633), ('pleasure', 0.0033496916108781663), ('epic', 0.003308899106546047)]\n",
      "Topic 3: [('hedge', 0.03877788566183804), ('fund', 0.03435200099141107), ('hedgefund', 0.01593437313244717), ('manager', 0.006333888826636099), ('funder', 0.0047731754395060385), ('turmoil', 0.004011166037923128), ('shill', 0.0036004110211357737), ('billion', 0.003596436238625759), ('cover', 0.0034763612853258487), ('scrape', 0.003426680922371695)]\n"
     ]
    }
   ],
   "source": [
    "# Display topic info\n",
    "print(topic_info.head())\n",
    "\n",
    "# Topics to print\n",
    "topics_to_print = [-1, 0, 1, 2, 3]\n",
    "\n",
    "print(\"\\n\" + \"\\n\".join([f\"Topic {topic}: {topic_model.get_topic(topic)}\" for topic in topics_to_print]))"
   ]
  },
  {
   "cell_type": "markdown",
   "metadata": {},
   "source": [
    "**Data for Performance Evaluation**"
   ]
  },
  {
   "cell_type": "code",
   "execution_count": 20,
   "metadata": {},
   "outputs": [],
   "source": [
    "# Ensure lengths match\n",
    "if len(topics) != len(title_data):\n",
    "    raise ValueError(f\"Length mismatch: topics({len(topics)}) and title_data({len(title_data)})\")\n",
    "\n",
    "# Add the topic column\n",
    "title_data['topic'] = topics\n",
    "\n",
    "# Retrieve topic names with a fallback for missing topics\n",
    "topic_names = {}\n",
    "for topic in set(topics):\n",
    "    words = topic_model.get_topic(topic)\n",
    "    if words:  # If topic has words\n",
    "        topic_names[topic] = f\"Topic {topic}: {', '.join([word for word, _ in words])}\"\n",
    "    else:\n",
    "        topic_names[topic] = f\"Topic {topic}: No Keywords\"\n",
    "\n",
    "# Map topic numbers to their names\n",
    "title_data['topic_name'] = title_data['topic'].map(topic_names)\n",
    "\n",
    "# Save the updated DataFrame\n",
    "title_data[['title', 'topic', 'topic_name']].to_csv('results/labeled_title_topics_with_lemma.csv', index=False)"
   ]
  },
  {
   "cell_type": "markdown",
   "metadata": {},
   "source": [
    "# BERTopic without lemmatization"
   ]
  },
  {
   "cell_type": "code",
   "execution_count": 21,
   "metadata": {},
   "outputs": [
    {
     "name": "stderr",
     "output_type": "stream",
     "text": [
      "2024-12-18 00:17:43,496 - BERTopic - Embedding - Transforming documents to embeddings.\n",
      "Batches: 100%|██████████| 1663/1663 [01:38<00:00, 16.97it/s]\n",
      "2024-12-18 00:19:23,527 - BERTopic - Embedding - Completed ✓\n",
      "2024-12-18 00:19:23,543 - BERTopic - Dimensionality - Fitting the dimensionality reduction algorithm\n",
      "2024-12-18 00:19:36,773 - BERTopic - Dimensionality - Completed ✓\n",
      "2024-12-18 00:19:36,773 - BERTopic - Cluster - Start clustering the reduced embeddings\n",
      "2024-12-18 00:19:38,583 - BERTopic - Cluster - Completed ✓\n",
      "2024-12-18 00:19:38,602 - BERTopic - Representation - Extracting topics from clusters using representation models.\n",
      "2024-12-18 00:19:39,578 - BERTopic - Representation - Completed ✓\n"
     ]
    }
   ],
   "source": [
    "# https://maartengr.github.io/BERTopic/getting_started/tips_and_tricks/tips_and_tricks.html#removing-stop-words\n",
    "from bertopic import BERTopic\n",
    "from sklearn.feature_extraction.text import CountVectorizer\n",
    "\n",
    "# Extract documents (list of strings)\n",
    "documents = title_data['title'].astype(str).tolist()\n",
    "\n",
    "# Create a vectorizer model that removes English stopwords\n",
    "vectorizer_model = CountVectorizer(stop_words='english')\n",
    "\n",
    "# Initialize BERTopic with the custom vectorizer\n",
    "topic_model = BERTopic(vectorizer_model=vectorizer_model, verbose=True)\n",
    "\n",
    "# Fit and transform the preprocessed documents to embeddings\n",
    "topics, probs = topic_model.fit_transform(documents)\n",
    "\n",
    "# Get topic info\n",
    "topic_info = topic_model.get_topic_info()"
   ]
  },
  {
   "cell_type": "code",
   "execution_count": 22,
   "metadata": {},
   "outputs": [
    {
     "name": "stdout",
     "output_type": "stream",
     "text": [
      "   Topic  Count                            Name  \\\n",
      "0     -1  17842   -1_gme_stock_stocks_robinhood   \n",
      "1      0    683          0_dip_dips_buy_dipping   \n",
      "2      1    483       1_shares_share_bought_200   \n",
      "3      2    457        2_apes_ape_strong_fellow   \n",
      "4      3    419  3_gamestop_games_officer_chief   \n",
      "\n",
      "                                      Representation  \\\n",
      "0  [gme, stock, stocks, robinhood, holding, money...   \n",
      "1  [dip, dips, buy, dipping, bought, buying, dipp...   \n",
      "2  [shares, share, bought, 200, 100, smallest, sh...   \n",
      "3  [apes, ape, strong, fellow, monkeys, stronk, m...   \n",
      "4  [gamestop, games, officer, chief, mania, appoi...   \n",
      "\n",
      "                                 Representative_Docs  \n",
      "0  [i holding gme don lose hope people remember w...  \n",
      "1           [buy that dip, buy the dip, buy the dip]  \n",
      "2  [these are my shares and no one else can have ...  \n",
      "3  [we are at it again apes, which one of you ape...  \n",
      "4                [gamestop, next gamestop, gamestop]  \n",
      "\n",
      "Topic -1: [('gme', 0.0014391148156366663), ('stock', 0.001295637583205388), ('stocks', 0.0012902262396255182), ('robinhood', 0.0012463116971343942), ('holding', 0.001240837165450055), ('money', 0.0012305296725174117), ('going', 0.0012213266088946823), ('just', 0.0011843518201997026), ('amc', 0.0011759678913442666), ('yolo', 0.0011741640815976868)]\n",
      "Topic 0: [('dip', 0.04221112435134427), ('dips', 0.022614232059153826), ('buy', 0.007730698104669851), ('dipping', 0.007233506486591218), ('bought', 0.0065048455488560955), ('buying', 0.005772746800230189), ('dipped', 0.00456246697358276), ('bread', 0.003568708238439094), ('soxs', 0.0033393920269031204), ('sweet', 0.003137137924012446)]\n",
      "Topic 1: [('shares', 0.018872724731676015), ('share', 0.011839436848032174), ('bought', 0.0063056986860671954), ('200', 0.005927410687240799), ('100', 0.004424244508184653), ('smallest', 0.004266383311852042), ('shareholder', 0.004223677853966236), ('30', 0.0041454684161996045), ('20', 0.004125654427544004), ('sold', 0.003982790821898072)]\n",
      "Topic 2: [('apes', 0.04985350208032532), ('ape', 0.04220726846841173), ('strong', 0.018681844821605644), ('fellow', 0.014793453074620225), ('monkeys', 0.007373660392137333), ('stronk', 0.006680892781178394), ('monkey', 0.006621839298180412), ('harambe', 0.0064566802233031), ('ooga', 0.006041790198963448), ('primates', 0.005415329849901379)]\n",
      "Topic 3: [('gamestop', 0.05020668472412064), ('games', 0.008620259818536643), ('officer', 0.008022414224263951), ('chief', 0.00776627980894483), ('mania', 0.007577103818949462), ('appoints', 0.007139265687089808), ('gs2c', 0.006657901694839965), ('announces', 0.006227994294866422), ('transformation', 0.006128332452010644), ('sales', 0.005968583587287738)]\n"
     ]
    }
   ],
   "source": [
    "# Display topic info\n",
    "print(topic_info.head())\n",
    "\n",
    "# Topics to print\n",
    "topics_to_print = [-1, 0, 1, 2, 3]\n",
    "\n",
    "print(\"\\n\" + \"\\n\".join([f\"Topic {topic}: {topic_model.get_topic(topic)}\" for topic in topics_to_print]))"
   ]
  },
  {
   "cell_type": "markdown",
   "metadata": {},
   "source": [
    "**Data for Performance Evaluation**"
   ]
  },
  {
   "cell_type": "code",
   "execution_count": 23,
   "metadata": {},
   "outputs": [],
   "source": [
    "# Ensure lengths match\n",
    "if len(topics) != len(title_data):\n",
    "    raise ValueError(f\"Length mismatch: topics({len(topics)}) and title_data({len(title_data)})\")\n",
    "\n",
    "# Add the topic column\n",
    "title_data['topic'] = topics\n",
    "\n",
    "# Retrieve topic names with a fallback for missing topics\n",
    "topic_names = {}\n",
    "for topic in set(topics):\n",
    "    words = topic_model.get_topic(topic)\n",
    "    if words:  # If topic has words\n",
    "        topic_names[topic] = f\"Topic {topic}: {', '.join([word for word, _ in words])}\"\n",
    "    else:\n",
    "        topic_names[topic] = f\"Topic {topic}: No Keywords\"\n",
    "\n",
    "# Map topic numbers to their names\n",
    "title_data['topic_name'] = title_data['topic'].map(topic_names)\n",
    "\n",
    "# Save the updated DataFrame\n",
    "title_data[['title', 'topic', 'topic_name']].to_csv('results/labeled_title_topics_without_lemma.csv', index=False)"
   ]
  },
  {
   "cell_type": "markdown",
   "metadata": {},
   "source": [
    "# Tool to extract given topic input in percentage over time"
   ]
  },
  {
   "cell_type": "code",
   "execution_count": 24,
   "metadata": {},
   "outputs": [
    {
     "name": "stdout",
     "output_type": "stream",
     "text": [
      "         date  total_posts  topic_posts  percentage\n",
      "1  2021-01-29        15694       2102.0   13.393654\n",
      "0  2021-01-28         1197        272.0   22.723475\n",
      "2  2021-01-30         1424         97.0    6.811798\n",
      "8  2021-02-05         2598         95.0    3.656659\n",
      "9  2021-02-06         2791         92.0    3.296310\n",
      "3  2021-01-31          939         72.0    7.667732\n",
      "7  2021-02-04         1671         50.0    2.992220\n",
      "6  2021-02-03         2643         44.0    1.664775\n",
      "5  2021-02-02         1502         43.0    2.862850\n",
      "4  2021-02-01          884         37.0    4.185520\n"
     ]
    },
    {
     "data": {
      "image/png": "[encoded data removed]",
      "text/plain": [
       "<Figure size 1200x600 with 1 Axes>"
      ]
     },
     "metadata": {},
     "output_type": "display_data"
    }
   ],
   "source": [
    "import pandas as pd\n",
    "import matplotlib.pyplot as plt\n",
    "\n",
    "# Ensure timestamp is datetime\n",
    "title_data['timestamp'] = pd.to_datetime(title_data['timestamp'])\n",
    "\n",
    "# Define topic\n",
    "topic = \"robinhood\"\n",
    "\n",
    "# Create a boolean column indicating if the topic is mentioned in a post\n",
    "title_data['mentions_topic'] = title_data['title'].str.contains(rf'\\b{topic}\\b', case=False, na=False)\n",
    "\n",
    "# Extract date\n",
    "title_data['date'] = title_data['timestamp'].dt.date\n",
    "\n",
    "# Count how many posts per day (total)\n",
    "daily_total = title_data.groupby('date').size().reset_index(name='total_posts')\n",
    "\n",
    "# Count how many posts mention the topic per day\n",
    "daily_topic = title_data[title_data['mentions_topic']].groupby('date').size().reset_index(name='topic_posts')\n",
    "\n",
    "# Merge the two DataFrames on 'date'\n",
    "merged = pd.merge(daily_total, daily_topic, on='date', how='left')\n",
    "\n",
    "# Fill NaN in topic_posts with 0 (days with no mentions)\n",
    "merged['topic_posts'] = merged['topic_posts'].fillna(0)\n",
    "\n",
    "# Compute percentage\n",
    "merged['percentage'] = (merged['topic_posts'] / merged['total_posts']) * 100\n",
    "\n",
    "# Sort by highest number of topic_posts\n",
    "merged = merged.sort_values(by='topic_posts', ascending=False)\n",
    "\n",
    "# Print the sorted table\n",
    "print(merged.head(10))\n",
    "\n",
    "# Plot the percentage over time as a bar chart\n",
    "plt.figure(figsize=(12,6))\n",
    "plt.bar(merged['date'], merged['percentage'], color='skyblue', edgecolor='black')\n",
    "plt.title(f'Percentage of Posts Mentioning \"{topic}\" Over Time')\n",
    "plt.xlabel('Date')\n",
    "plt.ylabel('Percentage of Posts Mentioning Topic (%)')\n",
    "plt.xticks(rotation=45)\n",
    "plt.tight_layout()\n",
    "plt.show()\n"
   ]
  }
 ],
 "metadata": {
  "kernelspec": {
   "display_name": "sentimentF24",
   "language": "python",
   "name": "python3"
  },
  "language_info": {
   "codemirror_mode": {
    "name": "ipython",
    "version": 3
   },
   "file_extension": ".py",
   "mimetype": "text/x-python",
   "name": "python",
   "nbconvert_exporter": "python",
   "pygments_lexer": "ipython3",
   "version": "3.11.10"
  }
 },
 "nbformat": 4,
 "nbformat_minor": 2
}
